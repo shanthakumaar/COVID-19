{
  "nbformat": 4,
  "nbformat_minor": 0,
  "metadata": {
    "colab": {
      "name": "COVID-19-ALEXNET.ipynb",
      "provenance": [],
      "collapsed_sections": [],
      "include_colab_link": true
    },
    "kernelspec": {
      "name": "python3",
      "display_name": "Python 3"
    },
    "accelerator": "GPU"
  },
  "cells": [
    {
      "cell_type": "markdown",
      "metadata": {
        "id": "view-in-github",
        "colab_type": "text"
      },
      "source": [
        "<a href=\"https://colab.research.google.com/github/shanthakumaar/COVID-19/blob/master/COVID_19_ALEXNET.ipynb\" target=\"_parent\"><img src=\"https://colab.research.google.com/assets/colab-badge.svg\" alt=\"Open In Colab\"/></a>"
      ]
    },
    {
      "cell_type": "code",
      "metadata": {
        "id": "XpqL-FwEmn8l",
        "colab_type": "code",
        "colab": {}
      },
      "source": [
        "from tensorflow import keras\n",
        "from tensorflow.keras.models import Sequential\n",
        "from tensorflow.keras.layers import Dense, Activation, Dropout, Flatten, Conv2D, MaxPooling2D\n",
        "from tensorflow.keras.layers import BatchNormalization,ZeroPadding2D\n",
        "from keras.optimizers import SGD\n",
        "from keras import applications\n",
        "from keras.models import Model\n",
        "import cv2, numpy as np\n",
        "import cv2                 # working with, mainly resizing, images\n",
        "import numpy as np         # dealing with arrays\n",
        "import os                  # dealing with directories\n",
        "from tqdm import tqdm"
      ],
      "execution_count": 0,
      "outputs": []
    },
    {
      "cell_type": "code",
      "metadata": {
        "id": "_QTKdcmZnbzE",
        "colab_type": "code",
        "outputId": "16e7cf8a-d3f4-4deb-e4f5-dbfc201ef9d6",
        "colab": {
          "base_uri": "https://localhost:8080/",
          "height": 313
        }
      },
      "source": [
        "!nvidia-smi"
      ],
      "execution_count": 63,
      "outputs": [
        {
          "output_type": "stream",
          "text": [
            "Thu Apr 16 03:28:22 2020       \n",
            "+-----------------------------------------------------------------------------+\n",
            "| NVIDIA-SMI 440.64.00    Driver Version: 418.67       CUDA Version: 10.1     |\n",
            "|-------------------------------+----------------------+----------------------+\n",
            "| GPU  Name        Persistence-M| Bus-Id        Disp.A | Volatile Uncorr. ECC |\n",
            "| Fan  Temp  Perf  Pwr:Usage/Cap|         Memory-Usage | GPU-Util  Compute M. |\n",
            "|===============================+======================+======================|\n",
            "|   0  Tesla P100-PCIE...  Off  | 00000000:00:04.0 Off |                    0 |\n",
            "| N/A   37C    P0    32W / 250W |   8805MiB / 16280MiB |      0%      Default |\n",
            "+-------------------------------+----------------------+----------------------+\n",
            "                                                                               \n",
            "+-----------------------------------------------------------------------------+\n",
            "| Processes:                                                       GPU Memory |\n",
            "|  GPU       PID   Type   Process name                             Usage      |\n",
            "|=============================================================================|\n",
            "+-----------------------------------------------------------------------------+\n"
          ],
          "name": "stdout"
        }
      ]
    },
    {
      "cell_type": "code",
      "metadata": {
        "id": "mL4fzJEHmyn0",
        "colab_type": "code",
        "outputId": "74fca9ab-f88b-46d6-f89e-117d8c0d9910",
        "colab": {
          "base_uri": "https://localhost:8080/",
          "height": 55
        }
      },
      "source": [
        "from google.colab import drive\n",
        "drive.mount('/content/drive')"
      ],
      "execution_count": 64,
      "outputs": [
        {
          "output_type": "stream",
          "text": [
            "Drive already mounted at /content/drive; to attempt to forcibly remount, call drive.mount(\"/content/drive\", force_remount=True).\n"
          ],
          "name": "stdout"
        }
      ]
    },
    {
      "cell_type": "code",
      "metadata": {
        "id": "7_4YNBMuoiIm",
        "colab_type": "code",
        "colab": {}
      },
      "source": [
        "import os"
      ],
      "execution_count": 0,
      "outputs": []
    },
    {
      "cell_type": "code",
      "metadata": {
        "id": "5WL8oX6VQbgO",
        "colab_type": "code",
        "colab": {
          "base_uri": "https://localhost:8080/",
          "height": 35
        },
        "outputId": "3cae68c5-8250-4d9b-d4c5-6d88330bbc55"
      },
      "source": [
        "!ls \"/content/drive/My Drive/research/keras-covid-19/dataset\""
      ],
      "execution_count": 66,
      "outputs": [
        {
          "output_type": "stream",
          "text": [
            "covid  normal\n"
          ],
          "name": "stdout"
        }
      ]
    },
    {
      "cell_type": "code",
      "metadata": {
        "id": "fUGs5yp-ojee",
        "colab_type": "code",
        "colab": {
          "base_uri": "https://localhost:8080/",
          "height": 35
        },
        "outputId": "76db63e9-0463-4e1d-97c1-fd409799cc31"
      },
      "source": [
        "os.listdir('/content/drive/My Drive/research/keras-covid-19/dataset')"
      ],
      "execution_count": 67,
      "outputs": [
        {
          "output_type": "execute_result",
          "data": {
            "text/plain": [
              "['covid', 'normal']"
            ]
          },
          "metadata": {
            "tags": []
          },
          "execution_count": 67
        }
      ]
    },
    {
      "cell_type": "code",
      "metadata": {
        "id": "5YloEdYLm-ek",
        "colab_type": "code",
        "colab": {}
      },
      "source": [
        "covid_path= '/content/drive/My Drive/research/keras-covid-19/dataset/covid'\n",
        "normal_path= '/content/drive/My Drive/research/keras-covid-19/dataset/normal'"
      ],
      "execution_count": 0,
      "outputs": []
    },
    {
      "cell_type": "code",
      "metadata": {
        "id": "G-VErlFlm-pY",
        "colab_type": "code",
        "colab": {}
      },
      "source": [
        "IMG_SIZE=224\n",
        "labels=[]"
      ],
      "execution_count": 0,
      "outputs": []
    },
    {
      "cell_type": "code",
      "metadata": {
        "id": "CRYuPrJAm-xn",
        "colab_type": "code",
        "colab": {}
      },
      "source": [
        "def image_read(TRAIN_DIR):\n",
        "    training_data = []\n",
        "    for img in tqdm(os.listdir(TRAIN_DIR)):\n",
        "        path = os.path.join(TRAIN_DIR,img)\n",
        "        img = cv2.imread(path)\n",
        "        img = cv2.resize(img, (IMG_SIZE,IMG_SIZE))\n",
        "        #img = cv2.cvtColor(img,cv2.COLOR_BGR2RGB)\n",
        "        training_data.append(np.array(img))\n",
        "    return training_data"
      ],
      "execution_count": 0,
      "outputs": []
    },
    {
      "cell_type": "code",
      "metadata": {
        "id": "RafeNsZ1m-2P",
        "colab_type": "code",
        "colab": {}
      },
      "source": [
        "def labelss(data,class_value):\n",
        "  y=np.ones(len(data),dtype=int)*class_value\n",
        "  return y"
      ],
      "execution_count": 0,
      "outputs": []
    },
    {
      "cell_type": "code",
      "metadata": {
        "id": "zKFEqUnVoU5P",
        "colab_type": "code",
        "outputId": "3505a7e7-bdf6-43d8-aab5-d1827c37a364",
        "colab": {
          "base_uri": "https://localhost:8080/",
          "height": 35
        }
      },
      "source": [
        "covid_path"
      ],
      "execution_count": 72,
      "outputs": [
        {
          "output_type": "execute_result",
          "data": {
            "text/plain": [
              "'/content/drive/My Drive/research/keras-covid-19/dataset/covid'"
            ]
          },
          "metadata": {
            "tags": []
          },
          "execution_count": 72
        }
      ]
    },
    {
      "cell_type": "code",
      "metadata": {
        "id": "HQyHFXXZy00T",
        "colab_type": "code",
        "outputId": "29405dbd-1291-4b12-8366-d8cce7cffe0a",
        "colab": {
          "base_uri": "https://localhost:8080/",
          "height": 35
        }
      },
      "source": [
        "covid_data=image_read(covid_path)"
      ],
      "execution_count": 73,
      "outputs": [
        {
          "output_type": "stream",
          "text": [
            "100%|██████████| 25/25 [00:00<00:00, 27.16it/s]\n"
          ],
          "name": "stderr"
        }
      ]
    },
    {
      "cell_type": "code",
      "metadata": {
        "id": "pO_qImU-zkJH",
        "colab_type": "code",
        "colab": {}
      },
      "source": [
        "import matplotlib.pyplot as plt"
      ],
      "execution_count": 0,
      "outputs": []
    },
    {
      "cell_type": "code",
      "metadata": {
        "id": "GGHy6kAdz0ES",
        "colab_type": "code",
        "outputId": "041c9912-60c2-4f7c-92b5-a0a319e103b0",
        "colab": {
          "base_uri": "https://localhost:8080/",
          "height": 35
        }
      },
      "source": [
        "np.shape(covid_data)"
      ],
      "execution_count": 75,
      "outputs": [
        {
          "output_type": "execute_result",
          "data": {
            "text/plain": [
              "(25, 224, 224, 3)"
            ]
          },
          "metadata": {
            "tags": []
          },
          "execution_count": 75
        }
      ]
    },
    {
      "cell_type": "code",
      "metadata": {
        "id": "BIEA4T9dzqIf",
        "colab_type": "code",
        "outputId": "2c22c7bc-76b6-4afa-9fec-a8f73f4197b5",
        "colab": {
          "base_uri": "https://localhost:8080/",
          "height": 287
        }
      },
      "source": [
        "plt.imshow(covid_data[0])"
      ],
      "execution_count": 76,
      "outputs": [
        {
          "output_type": "execute_result",
          "data": {
            "text/plain": [
              "<matplotlib.image.AxesImage at 0x7f29e03e53c8>"
            ]
          },
          "metadata": {
            "tags": []
          },
          "execution_count": 76
        },
        {
          "output_type": "display_data",
          "data": {
            "image/png": "[encoded data removed]",
            "text/plain": [
              "<Figure size 432x288 with 1 Axes>"
            ]
          },
          "metadata": {
            "tags": [],
            "needs_background": "light"
          }
        }
      ]
    },
    {
      "cell_type": "code",
      "metadata": {
        "id": "AJdH0-bs1OnF",
        "colab_type": "code",
        "colab": {}
      },
      "source": [
        "covid_label=labelss(covid_data,1)"
      ],
      "execution_count": 0,
      "outputs": []
    },
    {
      "cell_type": "code",
      "metadata": {
        "id": "K1AKf9Rc2NaZ",
        "colab_type": "code",
        "outputId": "01e9288d-5ae2-468e-8181-98d90dd36450",
        "colab": {
          "base_uri": "https://localhost:8080/",
          "height": 35
        }
      },
      "source": [
        "covid_label.shape"
      ],
      "execution_count": 78,
      "outputs": [
        {
          "output_type": "execute_result",
          "data": {
            "text/plain": [
              "(25,)"
            ]
          },
          "metadata": {
            "tags": []
          },
          "execution_count": 78
        }
      ]
    },
    {
      "cell_type": "code",
      "metadata": {
        "id": "6T8CddD_n2t2",
        "colab_type": "code",
        "outputId": "1dff043e-1895-40d6-8669-556fae8c7d83",
        "colab": {
          "base_uri": "https://localhost:8080/",
          "height": 35
        }
      },
      "source": [
        "normal_data=image_read(normal_path)"
      ],
      "execution_count": 79,
      "outputs": [
        {
          "output_type": "stream",
          "text": [
            "100%|██████████| 25/25 [00:00<00:00, 55.51it/s]\n"
          ],
          "name": "stderr"
        }
      ]
    },
    {
      "cell_type": "code",
      "metadata": {
        "id": "PTDT8T6On2xO",
        "colab_type": "code",
        "colab": {}
      },
      "source": [
        "normal_lable=labelss(normal_data,0)"
      ],
      "execution_count": 0,
      "outputs": []
    },
    {
      "cell_type": "code",
      "metadata": {
        "id": "hBz77a69n205",
        "colab_type": "code",
        "colab": {
          "base_uri": "https://localhost:8080/",
          "height": 54
        },
        "outputId": "dcb4959e-c018-491c-f160-54c58af3daad"
      },
      "source": [
        "normal_lable"
      ],
      "execution_count": 81,
      "outputs": [
        {
          "output_type": "execute_result",
          "data": {
            "text/plain": [
              "array([0, 0, 0, 0, 0, 0, 0, 0, 0, 0, 0, 0, 0, 0, 0, 0, 0, 0, 0, 0, 0, 0,\n",
              "       0, 0, 0])"
            ]
          },
          "metadata": {
            "tags": []
          },
          "execution_count": 81
        }
      ]
    },
    {
      "cell_type": "code",
      "metadata": {
        "id": "BwLC2Dsm2hwC",
        "colab_type": "code",
        "colab": {}
      },
      "source": [
        "dataset=np.concatenate((normal_data,covid_data))"
      ],
      "execution_count": 0,
      "outputs": []
    },
    {
      "cell_type": "code",
      "metadata": {
        "id": "yMZ_X0QL2h0B",
        "colab_type": "code",
        "outputId": "14fa5826-08a5-4819-ec29-52bb09900dfe",
        "colab": {
          "base_uri": "https://localhost:8080/",
          "height": 35
        }
      },
      "source": [
        "dataset.shape"
      ],
      "execution_count": 83,
      "outputs": [
        {
          "output_type": "execute_result",
          "data": {
            "text/plain": [
              "(50, 224, 224, 3)"
            ]
          },
          "metadata": {
            "tags": []
          },
          "execution_count": 83
        }
      ]
    },
    {
      "cell_type": "code",
      "metadata": {
        "id": "ufg6fL2d2h-J",
        "colab_type": "code",
        "colab": {}
      },
      "source": [
        "class_labels=np.concatenate((normal_lable,covid_label))"
      ],
      "execution_count": 0,
      "outputs": []
    },
    {
      "cell_type": "code",
      "metadata": {
        "id": "YYTVrrCI3bWQ",
        "colab_type": "code",
        "outputId": "d53a9eff-3569-4e7f-f1be-a5020da6ccff",
        "colab": {
          "base_uri": "https://localhost:8080/",
          "height": 35
        }
      },
      "source": [
        "class_labels.shape"
      ],
      "execution_count": 85,
      "outputs": [
        {
          "output_type": "execute_result",
          "data": {
            "text/plain": [
              "(50,)"
            ]
          },
          "metadata": {
            "tags": []
          },
          "execution_count": 85
        }
      ]
    },
    {
      "cell_type": "code",
      "metadata": {
        "id": "7VzOX7kf3nbe",
        "colab_type": "code",
        "colab": {}
      },
      "source": [
        "import sklearn.model_selection as ms"
      ],
      "execution_count": 0,
      "outputs": []
    },
    {
      "cell_type": "code",
      "metadata": {
        "id": "QUBnCJKA3yd9",
        "colab_type": "code",
        "colab": {}
      },
      "source": [
        "x_train,x_test,y_train,y_test=ms.train_test_split(dataset,class_labels,test_size=0.1,random_state=10)"
      ],
      "execution_count": 0,
      "outputs": []
    },
    {
      "cell_type": "code",
      "metadata": {
        "id": "sjBSPb0F3yYH",
        "colab_type": "code",
        "outputId": "601b3b49-fed5-493b-ca2d-da05ef81e252",
        "colab": {
          "base_uri": "https://localhost:8080/",
          "height": 35
        }
      },
      "source": [
        "x_train.shape"
      ],
      "execution_count": 88,
      "outputs": [
        {
          "output_type": "execute_result",
          "data": {
            "text/plain": [
              "(45, 224, 224, 3)"
            ]
          },
          "metadata": {
            "tags": []
          },
          "execution_count": 88
        }
      ]
    },
    {
      "cell_type": "code",
      "metadata": {
        "id": "mh7QcjO_n26x",
        "colab_type": "code",
        "colab": {}
      },
      "source": [
        "from keras.utils import to_categorical\n",
        "y= to_categorical(y_train)\n",
        "y_test=to_categorical(y_test)"
      ],
      "execution_count": 0,
      "outputs": []
    },
    {
      "cell_type": "code",
      "metadata": {
        "id": "rjJU4F3c5E05",
        "colab_type": "code",
        "colab": {
          "base_uri": "https://localhost:8080/",
          "height": 35
        },
        "outputId": "7737fbed-5a2a-4057-8f0f-7dce2c8a0fa3"
      },
      "source": [
        "y.shape"
      ],
      "execution_count": 90,
      "outputs": [
        {
          "output_type": "execute_result",
          "data": {
            "text/plain": [
              "(45, 2)"
            ]
          },
          "metadata": {
            "tags": []
          },
          "execution_count": 90
        }
      ]
    },
    {
      "cell_type": "code",
      "metadata": {
        "id": "VRNxnzzSiSfW",
        "colab_type": "code",
        "colab": {
          "base_uri": "https://localhost:8080/",
          "height": 849
        },
        "outputId": "ae0c1a16-1622-4fb6-ec49-28fb8bb8ca55"
      },
      "source": [
        "y"
      ],
      "execution_count": 91,
      "outputs": [
        {
          "output_type": "execute_result",
          "data": {
            "text/plain": [
              "array([[1., 0.],\n",
              "       [1., 0.],\n",
              "       [0., 1.],\n",
              "       [1., 0.],\n",
              "       [1., 0.],\n",
              "       [0., 1.],\n",
              "       [1., 0.],\n",
              "       [0., 1.],\n",
              "       [0., 1.],\n",
              "       [1., 0.],\n",
              "       [1., 0.],\n",
              "       [0., 1.],\n",
              "       [0., 1.],\n",
              "       [1., 0.],\n",
              "       [0., 1.],\n",
              "       [1., 0.],\n",
              "       [1., 0.],\n",
              "       [0., 1.],\n",
              "       [0., 1.],\n",
              "       [0., 1.],\n",
              "       [1., 0.],\n",
              "       [1., 0.],\n",
              "       [1., 0.],\n",
              "       [1., 0.],\n",
              "       [1., 0.],\n",
              "       [1., 0.],\n",
              "       [1., 0.],\n",
              "       [0., 1.],\n",
              "       [0., 1.],\n",
              "       [1., 0.],\n",
              "       [1., 0.],\n",
              "       [0., 1.],\n",
              "       [1., 0.],\n",
              "       [0., 1.],\n",
              "       [0., 1.],\n",
              "       [0., 1.],\n",
              "       [1., 0.],\n",
              "       [0., 1.],\n",
              "       [0., 1.],\n",
              "       [0., 1.],\n",
              "       [0., 1.],\n",
              "       [1., 0.],\n",
              "       [1., 0.],\n",
              "       [0., 1.],\n",
              "       [1., 0.]], dtype=float32)"
            ]
          },
          "metadata": {
            "tags": []
          },
          "execution_count": 91
        }
      ]
    },
    {
      "cell_type": "code",
      "metadata": {
        "id": "l2ii8pW_6heO",
        "colab_type": "code",
        "colab": {}
      },
      "source": [
        "# Initialize model\n",
        "alexnet = Sequential()\n",
        "\n",
        "# Layer 1\n",
        "alexnet.add(Conv2D(96, (11, 11), input_shape=(224,224,3), padding='same'))\n",
        "alexnet.add(BatchNormalization())\n",
        "conv1=Activation('relu')\n",
        "alexnet.add(conv1) \n",
        "max_pool_1=MaxPooling2D(pool_size=(2, 2))\n",
        "alexnet.add(max_pool_1)\n",
        "\n",
        "# Layer 2\n",
        "alexnet.add(Conv2D(256, (5, 5), padding='same'))\n",
        "alexnet.add(BatchNormalization())\n",
        "conv2=Activation('relu')\n",
        "alexnet.add(conv2)\n",
        "max_pool_2=MaxPooling2D(pool_size=(2, 2))\n",
        "alexnet.add(max_pool_2)\n",
        "\n",
        "# Layer 3\n",
        "alexnet.add(ZeroPadding2D((1, 1)))\n",
        "alexnet.add(Conv2D(384, (3, 3), padding='same'))\n",
        "alexnet.add(BatchNormalization())\n",
        "alexnet.add(Activation('relu'))\n",
        "alexnet.add(MaxPooling2D(pool_size=(2, 2)))\n",
        "\n",
        "# Layer 4\n",
        "alexnet.add(ZeroPadding2D((1, 1)))\n",
        "alexnet.add(Conv2D(384, (3, 3), padding='same'))\n",
        "alexnet.add(BatchNormalization())\n",
        "alexnet.add(Activation('relu'))\n",
        "\n",
        "# Layer 5\n",
        "alexnet.add(ZeroPadding2D((1, 1)))\n",
        "alexnet.add(Conv2D(512, (3, 3), padding='same'))\n",
        "alexnet.add(BatchNormalization())\n",
        "alexnet.add(Activation('relu'))\n",
        "alexnet.add(MaxPooling2D(pool_size=(2, 2)))\n",
        "\n",
        "# Layer 6\n",
        "alexnet.add(Flatten())\n",
        "alexnet.add(Dense(1024))\n",
        "alexnet.add(BatchNormalization())\n",
        "alexnet.add(Activation('relu'))\n",
        "alexnet.add(Dropout(0.5))\n",
        "\n",
        "# Layer 7\n",
        "alexnet.add(Dense(1024))\n",
        "alexnet.add(BatchNormalization())\n",
        "alexnet.add(Activation('relu'))\n",
        "alexnet.add(Dropout(0.5))\n",
        "\n",
        "# Layer 8\n",
        "alexnet.add(Dense(2))\n",
        "alexnet.add(BatchNormalization())\n",
        "alexnet.add(Activation('softmax'))"
      ],
      "execution_count": 0,
      "outputs": []
    },
    {
      "cell_type": "code",
      "metadata": {
        "id": "Vr6BNxIOBQf4",
        "colab_type": "code",
        "outputId": "12daa81f-ab36-4ed5-9480-a68f657f6e58",
        "colab": {
          "base_uri": "https://localhost:8080/",
          "height": 1000
        }
      },
      "source": [
        "alexnet.summary()"
      ],
      "execution_count": 93,
      "outputs": [
        {
          "output_type": "stream",
          "text": [
            "Model: \"sequential_1\"\n",
            "_________________________________________________________________\n",
            "Layer (type)                 Output Shape              Param #   \n",
            "=================================================================\n",
            "conv2d_5 (Conv2D)            (None, 224, 224, 96)      34944     \n",
            "_________________________________________________________________\n",
            "batch_normalization_8 (Batch (None, 224, 224, 96)      384       \n",
            "_________________________________________________________________\n",
            "activation_8 (Activation)    (None, 224, 224, 96)      0         \n",
            "_________________________________________________________________\n",
            "max_pooling2d_4 (MaxPooling2 (None, 112, 112, 96)      0         \n",
            "_________________________________________________________________\n",
            "conv2d_6 (Conv2D)            (None, 112, 112, 256)     614656    \n",
            "_________________________________________________________________\n",
            "batch_normalization_9 (Batch (None, 112, 112, 256)     1024      \n",
            "_________________________________________________________________\n",
            "activation_9 (Activation)    (None, 112, 112, 256)     0         \n",
            "_________________________________________________________________\n",
            "max_pooling2d_5 (MaxPooling2 (None, 56, 56, 256)       0         \n",
            "_________________________________________________________________\n",
            "zero_padding2d_3 (ZeroPaddin (None, 58, 58, 256)       0         \n",
            "_________________________________________________________________\n",
            "conv2d_7 (Conv2D)            (None, 58, 58, 384)       885120    \n",
            "_________________________________________________________________\n",
            "batch_normalization_10 (Batc (None, 58, 58, 384)       1536      \n",
            "_________________________________________________________________\n",
            "activation_10 (Activation)   (None, 58, 58, 384)       0         \n",
            "_________________________________________________________________\n",
            "max_pooling2d_6 (MaxPooling2 (None, 29, 29, 384)       0         \n",
            "_________________________________________________________________\n",
            "zero_padding2d_4 (ZeroPaddin (None, 31, 31, 384)       0         \n",
            "_________________________________________________________________\n",
            "conv2d_8 (Conv2D)            (None, 31, 31, 384)       1327488   \n",
            "_________________________________________________________________\n",
            "batch_normalization_11 (Batc (None, 31, 31, 384)       1536      \n",
            "_________________________________________________________________\n",
            "activation_11 (Activation)   (None, 31, 31, 384)       0         \n",
            "_________________________________________________________________\n",
            "zero_padding2d_5 (ZeroPaddin (None, 33, 33, 384)       0         \n",
            "_________________________________________________________________\n",
            "conv2d_9 (Conv2D)            (None, 33, 33, 512)       1769984   \n",
            "_________________________________________________________________\n",
            "batch_normalization_12 (Batc (None, 33, 33, 512)       2048      \n",
            "_________________________________________________________________\n",
            "activation_12 (Activation)   (None, 33, 33, 512)       0         \n",
            "_________________________________________________________________\n",
            "max_pooling2d_7 (MaxPooling2 (None, 16, 16, 512)       0         \n",
            "_________________________________________________________________\n",
            "flatten_1 (Flatten)          (None, 131072)            0         \n",
            "_________________________________________________________________\n",
            "dense_3 (Dense)              (None, 1024)              134218752 \n",
            "_________________________________________________________________\n",
            "batch_normalization_13 (Batc (None, 1024)              4096      \n",
            "_________________________________________________________________\n",
            "activation_13 (Activation)   (None, 1024)              0         \n",
            "_________________________________________________________________\n",
            "dropout_2 (Dropout)          (None, 1024)              0         \n",
            "_________________________________________________________________\n",
            "dense_4 (Dense)              (None, 1024)              1049600   \n",
            "_________________________________________________________________\n",
            "batch_normalization_14 (Batc (None, 1024)              4096      \n",
            "_________________________________________________________________\n",
            "activation_14 (Activation)   (None, 1024)              0         \n",
            "_________________________________________________________________\n",
            "dropout_3 (Dropout)          (None, 1024)              0         \n",
            "_________________________________________________________________\n",
            "dense_5 (Dense)              (None, 2)                 2050      \n",
            "_________________________________________________________________\n",
            "batch_normalization_15 (Batc (None, 2)                 8         \n",
            "_________________________________________________________________\n",
            "activation_15 (Activation)   (None, 2)                 0         \n",
            "=================================================================\n",
            "Total params: 139,917,322\n",
            "Trainable params: 139,909,958\n",
            "Non-trainable params: 7,364\n",
            "_________________________________________________________________\n"
          ],
          "name": "stdout"
        }
      ]
    },
    {
      "cell_type": "code",
      "metadata": {
        "id": "NPmUkX5jr3ay",
        "colab_type": "code",
        "colab": {}
      },
      "source": [
        "alexnet.compile(loss=keras.losses.categorical_crossentropy, optimizer='adam', metrics=['accuracy'])"
      ],
      "execution_count": 0,
      "outputs": []
    },
    {
      "cell_type": "code",
      "metadata": {
        "id": "iUgc6O6Ashsc",
        "colab_type": "code",
        "outputId": "6d1559e9-14e5-4eb8-92d8-a858a71984f7",
        "colab": {
          "base_uri": "https://localhost:8080/",
          "height": 1000
        }
      },
      "source": [
        "history=alexnet.fit(x_train, y, batch_size=5, epochs=100, validation_split=0.1, shuffle=True)"
      ],
      "execution_count": 96,
      "outputs": [
        {
          "output_type": "stream",
          "text": [
            "Epoch 1/100\n",
            "8/8 [==============================] - 1s 92ms/step - loss: 0.3093 - accuracy: 0.9500 - val_loss: 32.3088 - val_accuracy: 0.6000\n",
            "Epoch 2/100\n",
            "8/8 [==============================] - 1s 70ms/step - loss: 0.2002 - accuracy: 0.9750 - val_loss: 21.2559 - val_accuracy: 0.6000\n",
            "Epoch 3/100\n",
            "8/8 [==============================] - 1s 69ms/step - loss: 0.1656 - accuracy: 1.0000 - val_loss: 20.3535 - val_accuracy: 0.6000\n",
            "Epoch 4/100\n",
            "8/8 [==============================] - 1s 69ms/step - loss: 0.3370 - accuracy: 0.9500 - val_loss: 19.3420 - val_accuracy: 0.6000\n",
            "Epoch 5/100\n",
            "8/8 [==============================] - 1s 68ms/step - loss: 0.1629 - accuracy: 0.9750 - val_loss: 23.1519 - val_accuracy: 0.6000\n",
            "Epoch 6/100\n",
            "8/8 [==============================] - 1s 69ms/step - loss: 0.1367 - accuracy: 1.0000 - val_loss: 19.7907 - val_accuracy: 0.6000\n",
            "Epoch 7/100\n",
            "8/8 [==============================] - 1s 69ms/step - loss: 0.1658 - accuracy: 1.0000 - val_loss: 11.0369 - val_accuracy: 0.6000\n",
            "Epoch 8/100\n",
            "8/8 [==============================] - 1s 68ms/step - loss: 0.1638 - accuracy: 1.0000 - val_loss: 6.4631 - val_accuracy: 0.6000\n",
            "Epoch 9/100\n",
            "8/8 [==============================] - 1s 69ms/step - loss: 0.3984 - accuracy: 0.8500 - val_loss: 2.6580 - val_accuracy: 0.6000\n",
            "Epoch 10/100\n",
            "8/8 [==============================] - 1s 70ms/step - loss: 0.2196 - accuracy: 0.9750 - val_loss: 14.2410 - val_accuracy: 0.6000\n",
            "Epoch 11/100\n",
            "8/8 [==============================] - 1s 69ms/step - loss: 0.1841 - accuracy: 1.0000 - val_loss: 12.1217 - val_accuracy: 0.6000\n",
            "Epoch 12/100\n",
            "8/8 [==============================] - 1s 69ms/step - loss: 0.1851 - accuracy: 0.9750 - val_loss: 5.5925 - val_accuracy: 0.6000\n",
            "Epoch 13/100\n",
            "8/8 [==============================] - 1s 69ms/step - loss: 0.1829 - accuracy: 0.9750 - val_loss: 7.0125 - val_accuracy: 0.6000\n",
            "Epoch 14/100\n",
            "8/8 [==============================] - 1s 69ms/step - loss: 0.1264 - accuracy: 1.0000 - val_loss: 7.7570 - val_accuracy: 0.6000\n",
            "Epoch 15/100\n",
            "8/8 [==============================] - 1s 69ms/step - loss: 0.1299 - accuracy: 1.0000 - val_loss: 4.2323 - val_accuracy: 0.6000\n",
            "Epoch 16/100\n",
            "8/8 [==============================] - 1s 69ms/step - loss: 0.1954 - accuracy: 1.0000 - val_loss: 2.3064 - val_accuracy: 0.6000\n",
            "Epoch 17/100\n",
            "8/8 [==============================] - 1s 68ms/step - loss: 0.1375 - accuracy: 1.0000 - val_loss: 1.7224 - val_accuracy: 0.6000\n",
            "Epoch 18/100\n",
            "8/8 [==============================] - 1s 69ms/step - loss: 0.1361 - accuracy: 1.0000 - val_loss: 1.4169 - val_accuracy: 0.6000\n",
            "Epoch 19/100\n",
            "8/8 [==============================] - 1s 69ms/step - loss: 0.1452 - accuracy: 1.0000 - val_loss: 0.9915 - val_accuracy: 0.6000\n",
            "Epoch 20/100\n",
            "8/8 [==============================] - 1s 69ms/step - loss: 0.1654 - accuracy: 1.0000 - val_loss: 1.6897 - val_accuracy: 0.6000\n",
            "Epoch 21/100\n",
            "8/8 [==============================] - 1s 69ms/step - loss: 0.1476 - accuracy: 1.0000 - val_loss: 1.8503 - val_accuracy: 0.6000\n",
            "Epoch 22/100\n",
            "8/8 [==============================] - 1s 69ms/step - loss: 0.1766 - accuracy: 1.0000 - val_loss: 0.5734 - val_accuracy: 0.6000\n",
            "Epoch 23/100\n",
            "8/8 [==============================] - 1s 69ms/step - loss: 0.2936 - accuracy: 0.9250 - val_loss: 0.1357 - val_accuracy: 1.0000\n",
            "Epoch 24/100\n",
            "8/8 [==============================] - 1s 69ms/step - loss: 0.1339 - accuracy: 1.0000 - val_loss: 0.3421 - val_accuracy: 0.6000\n",
            "Epoch 25/100\n",
            "8/8 [==============================] - 1s 68ms/step - loss: 0.1543 - accuracy: 0.9750 - val_loss: 0.0495 - val_accuracy: 1.0000\n",
            "Epoch 26/100\n",
            "8/8 [==============================] - 1s 68ms/step - loss: 0.2866 - accuracy: 0.9250 - val_loss: 0.2853 - val_accuracy: 0.8000\n",
            "Epoch 27/100\n",
            "8/8 [==============================] - 1s 69ms/step - loss: 0.1595 - accuracy: 1.0000 - val_loss: 0.0859 - val_accuracy: 1.0000\n",
            "Epoch 28/100\n",
            "8/8 [==============================] - 1s 69ms/step - loss: 0.1530 - accuracy: 0.9500 - val_loss: 0.0730 - val_accuracy: 1.0000\n",
            "Epoch 29/100\n",
            "8/8 [==============================] - 1s 69ms/step - loss: 0.4776 - accuracy: 0.8500 - val_loss: 0.2098 - val_accuracy: 1.0000\n",
            "Epoch 30/100\n",
            "8/8 [==============================] - 1s 70ms/step - loss: 0.3452 - accuracy: 0.8500 - val_loss: 0.0395 - val_accuracy: 1.0000\n",
            "Epoch 31/100\n",
            "8/8 [==============================] - 1s 71ms/step - loss: 0.1478 - accuracy: 1.0000 - val_loss: 0.1473 - val_accuracy: 1.0000\n",
            "Epoch 32/100\n",
            "8/8 [==============================] - 1s 69ms/step - loss: 0.1246 - accuracy: 1.0000 - val_loss: 0.2974 - val_accuracy: 0.8000\n",
            "Epoch 33/100\n",
            "8/8 [==============================] - 1s 69ms/step - loss: 0.1952 - accuracy: 0.9500 - val_loss: 0.4022 - val_accuracy: 0.6000\n",
            "Epoch 34/100\n",
            "8/8 [==============================] - 1s 71ms/step - loss: 0.1289 - accuracy: 0.9750 - val_loss: 0.4487 - val_accuracy: 0.8000\n",
            "Epoch 35/100\n",
            "8/8 [==============================] - 1s 70ms/step - loss: 0.1198 - accuracy: 1.0000 - val_loss: 0.6255 - val_accuracy: 0.6000\n",
            "Epoch 36/100\n",
            "8/8 [==============================] - 1s 70ms/step - loss: 0.2745 - accuracy: 0.9250 - val_loss: 0.7370 - val_accuracy: 0.6000\n",
            "Epoch 37/100\n",
            "8/8 [==============================] - 1s 69ms/step - loss: 0.1179 - accuracy: 1.0000 - val_loss: 0.3108 - val_accuracy: 0.8000\n",
            "Epoch 38/100\n",
            "8/8 [==============================] - 1s 70ms/step - loss: 0.1349 - accuracy: 1.0000 - val_loss: 0.0622 - val_accuracy: 1.0000\n",
            "Epoch 39/100\n",
            "8/8 [==============================] - 1s 70ms/step - loss: 0.3170 - accuracy: 0.9250 - val_loss: 0.0544 - val_accuracy: 1.0000\n",
            "Epoch 40/100\n",
            "8/8 [==============================] - 1s 69ms/step - loss: 0.2892 - accuracy: 0.9500 - val_loss: 0.0513 - val_accuracy: 1.0000\n",
            "Epoch 41/100\n",
            "8/8 [==============================] - 1s 71ms/step - loss: 0.1321 - accuracy: 1.0000 - val_loss: 0.0581 - val_accuracy: 1.0000\n",
            "Epoch 42/100\n",
            "8/8 [==============================] - 1s 69ms/step - loss: 0.1380 - accuracy: 0.9750 - val_loss: 0.0820 - val_accuracy: 1.0000\n",
            "Epoch 43/100\n",
            "8/8 [==============================] - 1s 69ms/step - loss: 0.2752 - accuracy: 0.9000 - val_loss: 0.0303 - val_accuracy: 1.0000\n",
            "Epoch 44/100\n",
            "8/8 [==============================] - 1s 69ms/step - loss: 0.1405 - accuracy: 1.0000 - val_loss: 0.0355 - val_accuracy: 1.0000\n",
            "Epoch 45/100\n",
            "8/8 [==============================] - 1s 69ms/step - loss: 0.1698 - accuracy: 1.0000 - val_loss: 0.0771 - val_accuracy: 1.0000\n",
            "Epoch 46/100\n",
            "8/8 [==============================] - 1s 69ms/step - loss: 0.4019 - accuracy: 0.9000 - val_loss: 0.0873 - val_accuracy: 1.0000\n",
            "Epoch 47/100\n",
            "8/8 [==============================] - 1s 69ms/step - loss: 0.1770 - accuracy: 1.0000 - val_loss: 0.1083 - val_accuracy: 1.0000\n",
            "Epoch 48/100\n",
            "8/8 [==============================] - 1s 70ms/step - loss: 0.1499 - accuracy: 1.0000 - val_loss: 0.0516 - val_accuracy: 1.0000\n",
            "Epoch 49/100\n",
            "8/8 [==============================] - 1s 69ms/step - loss: 0.1262 - accuracy: 1.0000 - val_loss: 0.0469 - val_accuracy: 1.0000\n",
            "Epoch 50/100\n",
            "8/8 [==============================] - 1s 69ms/step - loss: 0.1086 - accuracy: 1.0000 - val_loss: 0.0498 - val_accuracy: 1.0000\n",
            "Epoch 51/100\n",
            "8/8 [==============================] - 1s 70ms/step - loss: 0.1075 - accuracy: 1.0000 - val_loss: 0.0480 - val_accuracy: 1.0000\n",
            "Epoch 52/100\n",
            "8/8 [==============================] - 1s 69ms/step - loss: 0.1172 - accuracy: 1.0000 - val_loss: 0.0424 - val_accuracy: 1.0000\n",
            "Epoch 53/100\n",
            "8/8 [==============================] - 1s 68ms/step - loss: 0.0902 - accuracy: 1.0000 - val_loss: 0.0398 - val_accuracy: 1.0000\n",
            "Epoch 54/100\n",
            "8/8 [==============================] - 1s 69ms/step - loss: 0.1165 - accuracy: 1.0000 - val_loss: 0.0402 - val_accuracy: 1.0000\n",
            "Epoch 55/100\n",
            "8/8 [==============================] - 1s 69ms/step - loss: 0.1455 - accuracy: 1.0000 - val_loss: 0.0496 - val_accuracy: 1.0000\n",
            "Epoch 56/100\n",
            "8/8 [==============================] - 1s 69ms/step - loss: 0.1143 - accuracy: 1.0000 - val_loss: 0.0513 - val_accuracy: 1.0000\n",
            "Epoch 57/100\n",
            "8/8 [==============================] - 1s 69ms/step - loss: 0.1150 - accuracy: 1.0000 - val_loss: 0.0465 - val_accuracy: 1.0000\n",
            "Epoch 58/100\n",
            "8/8 [==============================] - 1s 68ms/step - loss: 0.1112 - accuracy: 1.0000 - val_loss: 0.0451 - val_accuracy: 1.0000\n",
            "Epoch 59/100\n",
            "8/8 [==============================] - 1s 70ms/step - loss: 0.1537 - accuracy: 1.0000 - val_loss: 0.0489 - val_accuracy: 1.0000\n",
            "Epoch 60/100\n",
            "8/8 [==============================] - 1s 70ms/step - loss: 0.1376 - accuracy: 1.0000 - val_loss: 0.0551 - val_accuracy: 1.0000\n",
            "Epoch 61/100\n",
            "8/8 [==============================] - 1s 70ms/step - loss: 0.1230 - accuracy: 1.0000 - val_loss: 0.0403 - val_accuracy: 1.0000\n",
            "Epoch 62/100\n",
            "8/8 [==============================] - 1s 70ms/step - loss: 0.1419 - accuracy: 1.0000 - val_loss: 0.0507 - val_accuracy: 1.0000\n",
            "Epoch 63/100\n",
            "8/8 [==============================] - 1s 70ms/step - loss: 0.1227 - accuracy: 1.0000 - val_loss: 0.0597 - val_accuracy: 1.0000\n",
            "Epoch 64/100\n",
            "8/8 [==============================] - 1s 71ms/step - loss: 0.4031 - accuracy: 0.8750 - val_loss: 0.1006 - val_accuracy: 1.0000\n",
            "Epoch 65/100\n",
            "8/8 [==============================] - 1s 71ms/step - loss: 0.2677 - accuracy: 0.9000 - val_loss: 0.4709 - val_accuracy: 0.6000\n",
            "Epoch 66/100\n",
            "8/8 [==============================] - 1s 70ms/step - loss: 0.1480 - accuracy: 0.9750 - val_loss: 0.3648 - val_accuracy: 0.8000\n",
            "Epoch 67/100\n",
            "8/8 [==============================] - 1s 70ms/step - loss: 0.2998 - accuracy: 0.9000 - val_loss: 0.3148 - val_accuracy: 0.8000\n",
            "Epoch 68/100\n",
            "8/8 [==============================] - 1s 69ms/step - loss: 0.1333 - accuracy: 1.0000 - val_loss: 0.1494 - val_accuracy: 1.0000\n",
            "Epoch 69/100\n",
            "8/8 [==============================] - 1s 71ms/step - loss: 0.2956 - accuracy: 0.9250 - val_loss: 0.1295 - val_accuracy: 1.0000\n",
            "Epoch 70/100\n",
            "8/8 [==============================] - 1s 69ms/step - loss: 0.2405 - accuracy: 0.9500 - val_loss: 0.1824 - val_accuracy: 1.0000\n",
            "Epoch 71/100\n",
            "8/8 [==============================] - 1s 69ms/step - loss: 0.1174 - accuracy: 1.0000 - val_loss: 0.1099 - val_accuracy: 1.0000\n",
            "Epoch 72/100\n",
            "8/8 [==============================] - 1s 69ms/step - loss: 0.2579 - accuracy: 0.9250 - val_loss: 0.1684 - val_accuracy: 1.0000\n",
            "Epoch 73/100\n",
            "8/8 [==============================] - 1s 70ms/step - loss: 0.1798 - accuracy: 0.9500 - val_loss: 0.1034 - val_accuracy: 1.0000\n",
            "Epoch 74/100\n",
            "8/8 [==============================] - 1s 69ms/step - loss: 0.1097 - accuracy: 1.0000 - val_loss: 0.0387 - val_accuracy: 1.0000\n",
            "Epoch 75/100\n",
            "8/8 [==============================] - 1s 69ms/step - loss: 0.1113 - accuracy: 1.0000 - val_loss: 0.0318 - val_accuracy: 1.0000\n",
            "Epoch 76/100\n",
            "8/8 [==============================] - 1s 69ms/step - loss: 0.1293 - accuracy: 1.0000 - val_loss: 0.0418 - val_accuracy: 1.0000\n",
            "Epoch 77/100\n",
            "8/8 [==============================] - 1s 69ms/step - loss: 0.2181 - accuracy: 0.9250 - val_loss: 3.6948 - val_accuracy: 0.6000\n",
            "Epoch 78/100\n",
            "8/8 [==============================] - 1s 69ms/step - loss: 0.1412 - accuracy: 0.9750 - val_loss: 1.8578 - val_accuracy: 0.6000\n",
            "Epoch 79/100\n",
            "8/8 [==============================] - 1s 69ms/step - loss: 0.1187 - accuracy: 1.0000 - val_loss: 0.2035 - val_accuracy: 1.0000\n",
            "Epoch 80/100\n",
            "8/8 [==============================] - 1s 69ms/step - loss: 0.1321 - accuracy: 0.9750 - val_loss: 0.0499 - val_accuracy: 1.0000\n",
            "Epoch 81/100\n",
            "8/8 [==============================] - 1s 69ms/step - loss: 0.1317 - accuracy: 0.9750 - val_loss: 0.1647 - val_accuracy: 1.0000\n",
            "Epoch 82/100\n",
            "8/8 [==============================] - 1s 69ms/step - loss: 0.1069 - accuracy: 0.9750 - val_loss: 0.1291 - val_accuracy: 1.0000\n",
            "Epoch 83/100\n",
            "8/8 [==============================] - 1s 69ms/step - loss: 0.1246 - accuracy: 1.0000 - val_loss: 0.1315 - val_accuracy: 1.0000\n",
            "Epoch 84/100\n",
            "8/8 [==============================] - 1s 68ms/step - loss: 0.1535 - accuracy: 1.0000 - val_loss: 0.1278 - val_accuracy: 1.0000\n",
            "Epoch 85/100\n",
            "8/8 [==============================] - 1s 70ms/step - loss: 0.1219 - accuracy: 1.0000 - val_loss: 0.0520 - val_accuracy: 1.0000\n",
            "Epoch 86/100\n",
            "8/8 [==============================] - 1s 69ms/step - loss: 0.0866 - accuracy: 1.0000 - val_loss: 0.0363 - val_accuracy: 1.0000\n",
            "Epoch 87/100\n",
            "8/8 [==============================] - 1s 69ms/step - loss: 0.0920 - accuracy: 1.0000 - val_loss: 0.0311 - val_accuracy: 1.0000\n",
            "Epoch 88/100\n",
            "8/8 [==============================] - 1s 68ms/step - loss: 0.0994 - accuracy: 1.0000 - val_loss: 0.0351 - val_accuracy: 1.0000\n",
            "Epoch 89/100\n",
            "8/8 [==============================] - 1s 69ms/step - loss: 0.1144 - accuracy: 1.0000 - val_loss: 0.0468 - val_accuracy: 1.0000\n",
            "Epoch 90/100\n",
            "8/8 [==============================] - 1s 69ms/step - loss: 0.0902 - accuracy: 1.0000 - val_loss: 0.0370 - val_accuracy: 1.0000\n",
            "Epoch 91/100\n",
            "8/8 [==============================] - 1s 69ms/step - loss: 0.0973 - accuracy: 1.0000 - val_loss: 0.0315 - val_accuracy: 1.0000\n",
            "Epoch 92/100\n",
            "8/8 [==============================] - 1s 69ms/step - loss: 0.4811 - accuracy: 0.8750 - val_loss: 0.0373 - val_accuracy: 1.0000\n",
            "Epoch 93/100\n",
            "8/8 [==============================] - 1s 68ms/step - loss: 0.1316 - accuracy: 1.0000 - val_loss: 0.0354 - val_accuracy: 1.0000\n",
            "Epoch 94/100\n",
            "8/8 [==============================] - 1s 69ms/step - loss: 0.1105 - accuracy: 1.0000 - val_loss: 0.0349 - val_accuracy: 1.0000\n",
            "Epoch 95/100\n",
            "8/8 [==============================] - 1s 69ms/step - loss: 0.1240 - accuracy: 0.9750 - val_loss: 0.0337 - val_accuracy: 1.0000\n",
            "Epoch 96/100\n",
            "8/8 [==============================] - 1s 69ms/step - loss: 0.0800 - accuracy: 1.0000 - val_loss: 0.0275 - val_accuracy: 1.0000\n",
            "Epoch 97/100\n",
            "8/8 [==============================] - 1s 69ms/step - loss: 0.0948 - accuracy: 1.0000 - val_loss: 0.0245 - val_accuracy: 1.0000\n",
            "Epoch 98/100\n",
            "8/8 [==============================] - 1s 70ms/step - loss: 0.2968 - accuracy: 0.9250 - val_loss: 0.0297 - val_accuracy: 1.0000\n",
            "Epoch 99/100\n",
            "8/8 [==============================] - 1s 68ms/step - loss: 0.0932 - accuracy: 1.0000 - val_loss: 0.0333 - val_accuracy: 1.0000\n",
            "Epoch 100/100\n",
            "8/8 [==============================] - 1s 70ms/step - loss: 0.1047 - accuracy: 1.0000 - val_loss: 0.0326 - val_accuracy: 1.0000\n"
          ],
          "name": "stdout"
        }
      ]
    },
    {
      "cell_type": "code",
      "metadata": {
        "id": "PikhYUzgDDo8",
        "colab_type": "code",
        "colab": {}
      },
      "source": [
        "import gc "
      ],
      "execution_count": 0,
      "outputs": []
    },
    {
      "cell_type": "code",
      "metadata": {
        "id": "oSZEBfKQDFF8",
        "colab_type": "code",
        "colab": {
          "base_uri": "https://localhost:8080/",
          "height": 35
        },
        "outputId": "a8c39ca5-ec38-4487-92d1-3b3c63e893d6"
      },
      "source": [
        "gc.collect()"
      ],
      "execution_count": 98,
      "outputs": [
        {
          "output_type": "execute_result",
          "data": {
            "text/plain": [
              "32473"
            ]
          },
          "metadata": {
            "tags": []
          },
          "execution_count": 98
        }
      ]
    },
    {
      "cell_type": "code",
      "metadata": {
        "id": "A54kWaBCBM_W",
        "colab_type": "code",
        "colab": {
          "base_uri": "https://localhost:8080/",
          "height": 35
        },
        "outputId": "304d608e-5bbc-4949-eebc-9d84577f821e"
      },
      "source": [
        "x_test.shape"
      ],
      "execution_count": 99,
      "outputs": [
        {
          "output_type": "execute_result",
          "data": {
            "text/plain": [
              "(5, 224, 224, 3)"
            ]
          },
          "metadata": {
            "tags": []
          },
          "execution_count": 99
        }
      ]
    },
    {
      "cell_type": "code",
      "metadata": {
        "id": "4I-rEuLrCyl-",
        "colab_type": "code",
        "outputId": "ac842394-27c2-4026-f041-a955ab582db6",
        "colab": {
          "base_uri": "https://localhost:8080/",
          "height": 35
        }
      },
      "source": [
        "alexnet.predict(x_test[1].reshape(1,224,224,3))"
      ],
      "execution_count": 100,
      "outputs": [
        {
          "output_type": "execute_result",
          "data": {
            "text/plain": [
              "array([[0.97957164, 0.02042832]], dtype=float32)"
            ]
          },
          "metadata": {
            "tags": []
          },
          "execution_count": 100
        }
      ]
    },
    {
      "cell_type": "code",
      "metadata": {
        "id": "i9gdXH5oDrQ0",
        "colab_type": "code",
        "colab": {
          "base_uri": "https://localhost:8080/",
          "height": 35
        },
        "outputId": "4622c271-1856-49d6-9adf-b5cc49669c78"
      },
      "source": [
        "history.history.keys()"
      ],
      "execution_count": 101,
      "outputs": [
        {
          "output_type": "execute_result",
          "data": {
            "text/plain": [
              "dict_keys(['loss', 'accuracy', 'val_loss', 'val_accuracy'])"
            ]
          },
          "metadata": {
            "tags": []
          },
          "execution_count": 101
        }
      ]
    },
    {
      "cell_type": "code",
      "metadata": {
        "id": "DuzFt5XTEHr8",
        "colab_type": "code",
        "outputId": "ae7ed005-4a80-4c35-b4fd-5d20025db728",
        "colab": {
          "base_uri": "https://localhost:8080/",
          "height": 283
        }
      },
      "source": [
        "plt.plot(history.history['val_accuracy'])"
      ],
      "execution_count": 102,
      "outputs": [
        {
          "output_type": "execute_result",
          "data": {
            "text/plain": [
              "[<matplotlib.lines.Line2D at 0x7f29f61c5c18>]"
            ]
          },
          "metadata": {
            "tags": []
          },
          "execution_count": 102
        },
        {
          "output_type": "display_data",
          "data": {
            "image/png": "[encoded data removed]",
            "text/plain": [
              "<Figure size 432x288 with 1 Axes>"
            ]
          },
          "metadata": {
            "tags": [],
            "needs_background": "light"
          }
        }
      ]
    },
    {
      "cell_type": "code",
      "metadata": {
        "id": "dr-eNlstCqQY",
        "colab_type": "code",
        "colab": {
          "base_uri": "https://localhost:8080/",
          "height": 283
        },
        "outputId": "3a7acd79-f399-4ce4-ccc1-eb9fe20948ab"
      },
      "source": [
        "plt.plot(history.history['accuracy'])"
      ],
      "execution_count": 105,
      "outputs": [
        {
          "output_type": "execute_result",
          "data": {
            "text/plain": [
              "[<matplotlib.lines.Line2D at 0x7f295a1ccf28>]"
            ]
          },
          "metadata": {
            "tags": []
          },
          "execution_count": 105
        },
        {
          "output_type": "display_data",
          "data": {
            "image/png": "[encoded data removed]",
            "text/plain": [
              "<Figure size 432x288 with 1 Axes>"
            ]
          },
          "metadata": {
            "tags": [],
            "needs_background": "light"
          }
        }
      ]
    }
  ]
}